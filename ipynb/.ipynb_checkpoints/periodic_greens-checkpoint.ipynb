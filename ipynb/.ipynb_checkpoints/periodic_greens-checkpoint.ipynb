{
 "cells": [
  {
   "cell_type": "code",
   "execution_count": 1,
   "id": "found-annotation",
   "metadata": {},
   "outputs": [],
   "source": [
    "import numpy as np\n",
    "from math import pi\n",
    "from scipy.special import hankel1\n",
    "from novice_stakes.periodic_scatter import G_spec, G_spec_naive"
   ]
  },
  {
   "cell_type": "code",
   "execution_count": 2,
   "id": "experimental-bracket",
   "metadata": {},
   "outputs": [],
   "source": [
    "# acoustic parameters\n",
    "theta_inc = 35. * pi / 180\n",
    "fc = 500.  # monofrequency source\n",
    "c = 1500.  # sound speed, m/s\n",
    "kc = 2 * pi * fc / c"
   ]
  },
  {
   "cell_type": "code",
   "execution_count": 4,
   "id": "adjacent-married",
   "metadata": {},
   "outputs": [],
   "source": [
    "# Sinusiodal parameters\n",
    "H = 2.\n",
    "L = 70.\n",
    "numL = 6000\n",
    "\n",
    "K = 2 * pi / L\n",
    "\n",
    "# setup an x-axis\n",
    "dx = c / (8 * fc)\n",
    "numx = np.ceil(L / dx)\n",
    "xaxis = np.arange(numx) * L / numx\n",
    "dx = (xaxis[-1] - xaxis[0]) / (xaxis.size - 1)\n",
    "z = H * np.cos(K * xaxis) / 2\n",
    "\n",
    "# choose two specific points from the xaxis\n",
    "i1 = np.argmin(np.abs(3. - xaxis))\n",
    "i2 = np.argmin(np.abs(5. - xaxis))\n",
    "x1 = xaxis[i1] \n",
    "x2 = xaxis[i2] \n",
    "\n",
    "z1 = z[i1]\n",
    "z2 = z[i2]"
   ]
  },
  {
   "cell_type": "code",
   "execution_count": 5,
   "id": "hispanic-family",
   "metadata": {},
   "outputs": [
    {
     "data": {
      "text/plain": [
       "(0.004953723968190907-0.10347177210744818j)"
      ]
     },
     "execution_count": 5,
     "metadata": {},
     "output_type": "execute_result"
    }
   ],
   "source": [
    "# sum of Hankel1 functions\n",
    "# make number of wavelengths odd \n",
    "\n",
    "ns = np.arange(-numL, numL + 1)\n",
    "xs = ns * L + x2\n",
    "\n",
    "a0 = kc * np.cos(theta_inc)\n",
    "\n",
    "dx = x1 - xs\n",
    "dz = z1 - z2\n",
    "rho = np.sqrt(dx ** 2 + dz ** 2)\n",
    "g_per = np.sum(1j * np.exp(1j * a0 * ns * L) * hankel1(0, kc * rho) / 4)\n",
    "g_per"
   ]
  },
  {
   "cell_type": "code",
   "execution_count": 6,
   "id": "charitable-corpus",
   "metadata": {},
   "outputs": [
    {
     "data": {
      "text/plain": [
       "(0.00469718986144853-0.10355315419734075j)"
      ]
     },
     "execution_count": 6,
     "metadata": {},
     "output_type": "execute_result"
    }
   ],
   "source": [
    "# spectral formulation\n",
    "a_q = a0 + ns * K\n",
    "g_q = -1j * np.sqrt(kc ** 2 - a_q ** 2 + 0j)\n",
    "g_spec = (np.exp(-g_q * np.abs(dz) + 1j * a_q * (x1 - x2)) / g_q).sum()\n",
    "g_spec /= 2 * L\n",
    "g_spec"
   ]
  },
  {
   "cell_type": "code",
   "execution_count": 7,
   "id": "considered-registrar",
   "metadata": {},
   "outputs": [
    {
     "data": {
      "text/plain": [
       "(0.004693699349181735-0.10366366951413586j)"
      ]
     },
     "execution_count": 7,
     "metadata": {},
     "output_type": "execute_result"
    }
   ],
   "source": [
    "# Use canned routine to calculate periodic greens function\n",
    "rs = np.array([xaxis, z])\n",
    "G_mat = G_spec(kc * L, a0 * L, rs / L, 200)\n",
    "G_mat[i2, i1]"
   ]
  },
  {
   "cell_type": "code",
   "execution_count": 8,
   "id": "swedish-childhood",
   "metadata": {},
   "outputs": [
    {
     "data": {
      "text/plain": [
       "(0.0026509066138772994+0.0003525960599429738j)"
      ]
     },
     "execution_count": 8,
     "metadata": {},
     "output_type": "execute_result"
    }
   ],
   "source": [
    "# Normal derivative of Periodic Greens function as a sum of Hankel functions\n",
    "n_vec = np.array([H * K * np.sin(K * x1) / 2, 1])\n",
    "g_grad = -1j * kc * np.array([dx, np.full_like(dx, dz)]) * np.exp(1j * a0 * ns * L) * hankel1(1, kc * rho) / (4 * rho)\n",
    "g_per = np.einsum('i,ij->', n_vec, g_grad)\n",
    "g_per"
   ]
  },
  {
   "cell_type": "code",
   "execution_count": 9,
   "id": "sporting-million",
   "metadata": {},
   "outputs": [
    {
     "data": {
      "text/plain": [
       "(0.002654393196173476+0.00035054018470771737j)"
      ]
     },
     "execution_count": 9,
     "metadata": {},
     "output_type": "execute_result"
    }
   ],
   "source": [
    "# spectral formulation of normal derivative\n",
    "g_spec_grad = np.array([1j * a_q, -g_q * np.sign(dz)]) * np.exp(-g_q * np.abs(dz) + 1j * a_q * (x1 - x2)) / g_q\n",
    "g_spec = np.einsum('i,ij->', n_vec, g_spec_grad) / (2 * L)\n",
    "g_spec"
   ]
  },
  {
   "cell_type": "code",
   "execution_count": 10,
   "id": "realistic-porter",
   "metadata": {},
   "outputs": [
    {
     "data": {
      "text/plain": [
       "(0.0026544036922502273+0.00035053998845990776j)"
      ]
     },
     "execution_count": 10,
     "metadata": {},
     "output_type": "execute_result"
    }
   ],
   "source": [
    "# Use canned routine to calculate normal derivative of periodic greens function\n",
    "ns = np.array([H * K * np.sin(K * xaxis) / 2, np.ones_like(xaxis)])\n",
    "G_mat = G_spec_naive(kc * L, a0 * L, rs / L, 3000, n_L=ns / L)\n",
    "G_mat[i2, i1]"
   ]
  },
  {
   "cell_type": "code",
   "execution_count": 11,
   "id": "palestinian-stack",
   "metadata": {},
   "outputs": [
    {
     "name": "stderr",
     "output_type": "stream",
     "text": [
      "<__array_function__ internals>:5: ComplexWarning: Casting complex values to real discards the imaginary part\n"
     ]
    },
    {
     "data": {
      "text/plain": [
       "(0.002411221136580932+0.0003505147343735304j)"
      ]
     },
     "execution_count": 11,
     "metadata": {},
     "output_type": "execute_result"
    }
   ],
   "source": [
    "# Use canned routine to calculate normal derivative of periodic greens function\n",
    "G_mat = G_spec(kc * L, a0 * L, rs / L, 2000, n_L=ns / L)\n",
    "G_mat[i2, i1]"
   ]
  }
 ],
 "metadata": {
  "kernelspec": {
   "display_name": "Python 3",
   "language": "python",
   "name": "python3"
  },
  "language_info": {
   "codemirror_mode": {
    "name": "ipython",
    "version": 3
   },
   "file_extension": ".py",
   "mimetype": "text/x-python",
   "name": "python",
   "nbconvert_exporter": "python",
   "pygments_lexer": "ipython3",
   "version": "3.8.3"
  }
 },
 "nbformat": 4,
 "nbformat_minor": 5
}
