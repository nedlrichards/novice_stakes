{
 "cells": [
  {
   "cell_type": "code",
   "execution_count": 1,
   "id": "statistical-shopper",
   "metadata": {},
   "outputs": [],
   "source": [
    "import numpy as np\n",
    "import numexpr as ne\n",
    "from math import pi\n",
    "from scipy.optimize import newton\n",
    "from scipy.signal import hilbert\n",
    "from scipy.interpolate import interp1d\n",
    "\n",
    "import matplotlib.pyplot as plt\n",
    "\n",
    "from novice_stakes.surfaces import Surface, spectrum\n",
    "from novice_stakes import initialize_nuttall\n",
    "from novice_stakes.refraction import p_sca_KA_fan, IsoSpeedFan, initialize_axes"
   ]
  },
  {
   "cell_type": "code",
   "execution_count": 5,
   "id": "annual-hostel",
   "metadata": {},
   "outputs": [],
   "source": [
    "z_src = -10.\n",
    "z_rcr = -20.\n",
    "x_rcr = 200.\n",
    "\n",
    "# sinusoidal surface parameters\n",
    "H = 2.\n",
    "L = 40.\n",
    "K = 2 * pi / L\n",
    "\n",
    "# compute time/frequency domain parameters\n",
    "c = 1500\n",
    "fc = 4e3\n",
    "fs = 2.1 * fc * 2\n",
    "tau_lim = 10e-3\n",
    "\n",
    "faxis, dx, sig_FT = initialize_nuttall(fc, fs, c, tau_lim)\n",
    "kmax = 2 * pi / dx\n",
    "\n",
    "# compute source and receiver ray fans\n",
    "dz_iso = 2\n",
    "num_rays = 2000\n",
    "theta_max = 0.1 * (pi / 180)\n",
    "\n",
    "ray_src = IsoSpeedFan(c, z_src + dz_iso, num_rays, theta_max)\n",
    "ray_rcr = IsoSpeedFan(c, z_rcr + dz_iso, num_rays, theta_max)\n",
    "\n",
    "# setup xaxis\n",
    "xaxis, yaxis, tau_img = initialize_axes(ray_src, ray_rcr, tau_lim, x_rcr, dx, dz_iso=dz_iso)\n",
    "\n",
    "kx = np.arange(xaxis.size // 2 + 1) * kmax / xaxis.size\n",
    "ky = (np.arange(yaxis.size) - (yaxis.size // 2 - 1)) * kmax / yaxis.size"
   ]
  },
  {
   "cell_type": "code",
   "execution_count": 6,
   "id": "revised-trout",
   "metadata": {},
   "outputs": [],
   "source": [
    "num_times = 50.\n",
    "total_time = 5.\n",
    "twave = np.arange(num_times) * total_time / num_times\n",
    "surf_1D = Surface(K, H / (2 * np.sqrt(2)), xaxis=xaxis)\n",
    "p_stack = []\n",
    "\n",
    "for wt in twave: \n",
    "    realization_1D = surf_1D.realization()\n",
    "\n",
    "    eta = surf_1D.surface_synthesis(realization_1D, time=wt)\n",
    "    eta_p = surf_1D.surface_synthesis(realization_1D, derivative='x', time=wt)\n",
    "\n",
    "    p_rcr, taxis, p_ref = p_sca_KA_fan(ray_src, ray_rcr, xaxis, x_rcr,\n",
    "                                       eta, eta_p, tau_img, tau_lim, \n",
    "                                       faxis, sig_FT, tau_start=-1, dz_iso=dz_iso)\n",
    "    p_stack.append(p_rcr)\n",
    "    \n",
    "p_stack = np.array(p_stack)"
   ]
  },
  {
   "cell_type": "code",
   "execution_count": 7,
   "id": "engaged-efficiency",
   "metadata": {},
   "outputs": [
    {
     "data": {
      "text/plain": [
       "Text(0, 0.5, 'Delay re. image arrival (ms)')"
      ]
     },
     "execution_count": 7,
     "metadata": {},
     "output_type": "execute_result"
    },
    {
     "data": {
      "image/png": "[encoded data removed]",
      "text/plain": [
       "<Figure size 432x288 with 2 Axes>"
      ]
     },
     "metadata": {
      "needs_background": "light"
     },
     "output_type": "display_data"
    }
   ],
   "source": [
    "p_dB = 20 * np.log10(np.abs(hilbert(p_stack, axis=-1))) - 20 * np.log10(p_ref)\n",
    "fig, ax = plt.subplots()\n",
    "cm = ax.pcolormesh(twave, (taxis - tau_img) * 1e3, p_dB.T, cmap=plt.cm.binary, vmin=-40, vmax=5)\n",
    "fig.colorbar(cm)\n",
    "ax.set_ylim(-1, 6)\n",
    "ax.set_xlabel('Wave time (s)')\n",
    "ax.set_ylabel('Delay re. image arrival (ms)')"
   ]
  }
 ],
 "metadata": {
  "kernelspec": {
   "display_name": "Python 3",
   "language": "python",
   "name": "python3"
  },
  "language_info": {
   "codemirror_mode": {
    "name": "ipython",
    "version": 3
   },
   "file_extension": ".py",
   "mimetype": "text/x-python",
   "name": "python",
   "nbconvert_exporter": "python",
   "pygments_lexer": "ipython3",
   "version": "3.8.3"
  }
 },
 "nbformat": 4,
 "nbformat_minor": 5
}
