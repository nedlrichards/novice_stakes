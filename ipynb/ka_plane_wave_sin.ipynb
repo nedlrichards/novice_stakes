{
 "cells": [
  {
   "cell_type": "code",
   "execution_count": 1,
   "id": "anticipated-reliance",
   "metadata": {},
   "outputs": [],
   "source": [
    "import numpy as np\n",
    "from math import pi\n",
    "from scipy.special import hankel2, jv\n",
    "\n",
    "# basic periodic scatter information\n",
    "from novice_stakes.periodic_scatter import Bragg\n",
    "\n",
    "# complete reflection coefficent calculation modules to check results\n",
    "from novice_stakes.periodic_scatter import CosineRs, QuadRs"
   ]
  },
  {
   "cell_type": "code",
   "execution_count": 2,
   "id": "isolated-belly",
   "metadata": {},
   "outputs": [],
   "source": [
    "# acoustic parameters\n",
    "theta_inc = 35. * pi / 180\n",
    "fc = 500.  # monofrequency source\n",
    "c = 1500.  # sound speed, m/s\n",
    "kc = 2 * pi * fc / c\n",
    "\n",
    "# source and reciever parameters\n",
    "xsrc = 0\n",
    "zsrc = -10.\n",
    "xrcr = 200.\n",
    "zrcr = -20."
   ]
  },
  {
   "cell_type": "code",
   "execution_count": 3,
   "id": "relevant-dairy",
   "metadata": {},
   "outputs": [],
   "source": [
    "# setup xaxis centered around receiver\n",
    "decimation = 8  # integration lengths per wavelength\n",
    "dx = fc / (8 * c)\n",
    "ilength = 100000\n",
    "\n",
    "# compute xaxis\n",
    "numx = int(np.ceil(ilength / dx))\n",
    "xaxis = np.arange(numx) * dx + (xrcr - ilength / 2)"
   ]
  },
  {
   "cell_type": "code",
   "execution_count": 4,
   "id": "general-jamaica",
   "metadata": {},
   "outputs": [],
   "source": [
    "# Periodic surface formulation\n",
    "# Sinusidal surface\n",
    "H = 2.\n",
    "L = 45.\n",
    "K = 2 * pi / L\n",
    "\n",
    "# Periodic length determines the Bragg scatter angles\n",
    "numeva = 10\n",
    "bragg = Bragg(L)\n",
    "qvec = bragg.qvec(theta_inc, numeva, fc)\n",
    "a0, aq, b0, bq = bragg.bragg_angles(theta_inc, qvec, fc)\n",
    "\n",
    "# surface specifactions for one period\n",
    "num_per = int(np.ceil(L / dx))\n",
    "x_per = np.arange(num_per) * dx"
   ]
  },
  {
   "cell_type": "code",
   "execution_count": 5,
   "id": "compatible-calendar",
   "metadata": {},
   "outputs": [
    {
     "data": {
      "text/plain": [
       "0.004997094116970992"
      ]
     },
     "execution_count": 5,
     "metadata": {},
     "output_type": "execute_result"
    }
   ],
   "source": [
    "# Use far field approximation for hankel function for scatter pressure integral\n",
    "ztest = 25.\n",
    "hexact = hankel2(0,ztest)\n",
    "happx = np.sqrt(2 / (pi * ztest)) * np.exp(-1j * (ztest - pi / 4))\n",
    "np.abs(hexact - happx) / np.abs(hexact)"
   ]
  },
  {
   "cell_type": "code",
   "execution_count": 6,
   "id": "proper-issue",
   "metadata": {},
   "outputs": [
    {
     "data": {
      "text/plain": [
       "0.004015246327051374"
      ]
     },
     "execution_count": 6,
     "metadata": {},
     "output_type": "execute_result"
    }
   ],
   "source": [
    "# Assume no structure for source or surface\n",
    "# recover the image source for a flat surface\n",
    "dpinc_KA = (kc * np.sin(theta_inc) / 2) \\\n",
    "        * np.exp(-1j * kc * (np.cos(theta_inc) * xaxis + np.sin(theta_inc) * np.abs(zsrc)))\n",
    "\n",
    "rra = np.sqrt((xrcr - xaxis) ** 2 + zrcr ** 2)\n",
    "gra = np.sqrt(2 / (pi * kc * rra)) * np.exp(-1j * (kc * rra - pi / 4))\n",
    "\n",
    "# negative sign is consistant with other integrals that include hankel of 2nd kind\n",
    "pKA = -np.sum(dpinc_KA * gra) * dx\n",
    "pimg = -np.exp(-1j * kc * (np.cos(theta_inc) * xrcr + np.sin(theta_inc) * np.abs(zrcr + zsrc)))\n",
    "np.abs(pKA - pimg) / np.abs(pimg)"
   ]
  },
  {
   "cell_type": "code",
   "execution_count": 7,
   "id": "written-italic",
   "metadata": {},
   "outputs": [
    {
     "data": {
      "text/plain": [
       "1.5151595604785606e-14"
      ]
     },
     "execution_count": 7,
     "metadata": {},
     "output_type": "execute_result"
    }
   ],
   "source": [
    "# Assume periodic source and surface, flat surface\n",
    "# source term\n",
    "projection = b0\n",
    "KA_per = -2j * projection * np.exp(-1j * b0 * -zsrc)\n",
    "\n",
    "# receiver term using grating greens function\n",
    "gra = np.exp(-1j * (bq[:, None] * -zrcr + qvec[:, None] * K * (xrcr - x_per))) / bq[:, None]\n",
    "gra = (1j / (2 * L)) * np.sum(gra, axis=0)\n",
    "\n",
    "# surface integral for scattered pressure\n",
    "p_sca_per = -np.exp(-1j * a0 * xrcr) * np.sum(KA_per * gra) * dx\n",
    "np.abs(p_sca_per - pimg) / np.abs(pimg)"
   ]
  },
  {
   "cell_type": "code",
   "execution_count": 8,
   "id": "practical-bradley",
   "metadata": {},
   "outputs": [
    {
     "data": {
      "text/plain": [
       "(-0.5768196671478311+0.3048791829637074j)"
      ]
     },
     "execution_count": 8,
     "metadata": {},
     "output_type": "execute_result"
    }
   ],
   "source": [
    "# non-structured KA surface integral for a sinusoidal surface\n",
    "eta = (H / 2) * np.cos(K * xaxis)\n",
    "eta_p = -(H * K / 2) * np.sin(K * xaxis)\n",
    "\n",
    "projection = np.dot(np.array([np.cos(theta_inc), np.sin(theta_inc)]), np.array([-eta_p, np.ones_like(xaxis)]))\n",
    "\n",
    "dpinc_KA = (kc * projection / 2) \\\n",
    "        * np.exp(-1j * kc * (np.cos(theta_inc) * xaxis + np.sin(theta_inc) * np.abs(eta - zsrc)))\n",
    "\n",
    "rra = np.sqrt((xrcr - xaxis) ** 2 + (zrcr - eta) ** 2)\n",
    "gra = np.sqrt(2 / (pi * kc * rra)) * np.exp(-1j * (kc * rra - pi / 4))\n",
    "\n",
    "# negative sign is consistant with other integrals that include hankel of 2nd kind\n",
    "pKA = -np.sum(dpinc_KA * gra) * dx\n",
    "pKA"
   ]
  },
  {
   "cell_type": "code",
   "execution_count": 9,
   "id": "turned-directive",
   "metadata": {},
   "outputs": [
    {
     "data": {
      "text/plain": [
       "(-0.5771804077994217+0.30073714779978467j)"
      ]
     },
     "execution_count": 9,
     "metadata": {},
     "output_type": "execute_result"
    }
   ],
   "source": [
    "# Integrate KA using periodic greens function, sinusoidal surface\n",
    "eta = (H / 2) * np.cos(K * x_per)\n",
    "eta_p = -(H * K / 2) * np.sin(K * x_per)\n",
    "\n",
    "# source term\n",
    "projection = np.dot(np.array([a0, b0]),\n",
    "                    np.array([-eta_p, np.ones_like(x_per)]))\n",
    "KA_per = -2j * projection * np.exp(-1j * b0 * (eta - zsrc))\n",
    "\n",
    "# receiver term\n",
    "phase = bq[:, None] * (eta - zrcr) + qvec[:, None] * K * (xrcr - x_per)\n",
    "gra = np.exp(-1j * phase) / bq[:, None]\n",
    "gra = (1j / (2 * L)) * np.sum(gra, axis=0)\n",
    "\n",
    "# surface integral for scattered pressure\n",
    "p_sca_per = -np.exp(-1j * a0 * xrcr) * np.sum(KA_per * gra) * dx\n",
    "p_sca_per"
   ]
  },
  {
   "cell_type": "code",
   "execution_count": 10,
   "id": "judicial-investment",
   "metadata": {},
   "outputs": [
    {
     "data": {
      "text/plain": [
       "2.0513004100461377e-14"
      ]
     },
     "execution_count": 10,
     "metadata": {},
     "output_type": "execute_result"
    }
   ],
   "source": [
    "# Reflection coefficent formulation for scatter pressure\n",
    "# source term\n",
    "projection = np.dot(np.array([a0, b0]),\n",
    "                    np.array([-eta_p, np.ones_like(x_per)]))\n",
    "\n",
    "KA_per = -2j * projection * np.exp(-1j * b0 * eta)\n",
    "\n",
    "# receiver term\n",
    "gra = (1j / (2 * L)) * np.exp(-1j * (bq[:, None] * eta - qvec[:, None] * K * x_per)) / bq[:, None]\n",
    "\n",
    "# integration for reflection coefficents\n",
    "R_int = -np.sum(KA_per * gra, axis=1) * dx\n",
    "\n",
    "p_sca_r = np.dot(R_int, np.exp(-1j * (-b0 * zsrc + aq * xrcr - bq * zrcr)))\n",
    "np.abs(p_sca_r - p_sca_per)"
   ]
  },
  {
   "cell_type": "code",
   "execution_count": 11,
   "id": "handy-portal",
   "metadata": {},
   "outputs": [
    {
     "data": {
      "text/plain": [
       "4.825179074965119e-16"
      ]
     },
     "execution_count": 11,
     "metadata": {},
     "output_type": "execute_result"
    }
   ],
   "source": [
    "# Analytic integration for KA reflection coefficents specific to a sinusoidal surface\n",
    "r_analytic = 1j ** qvec * jv(qvec, -H * (b0 + bq) / 2) \\\n",
    "           * (a0 * qvec * K / (bq * (b0 + bq)) - b0 / bq)\n",
    "np.max(np.abs(R_int - r_analytic))"
   ]
  },
  {
   "cell_type": "code",
   "execution_count": 12,
   "id": "helpful-causing",
   "metadata": {},
   "outputs": [
    {
     "data": {
      "text/plain": [
       "0.0"
      ]
     },
     "execution_count": 12,
     "metadata": {},
     "output_type": "execute_result"
    }
   ],
   "source": [
    "# confirm agreement with module calculations\n",
    "r_cos = CosineRs(H, L, c=c)\n",
    "r_KA_ana = r_cos.ka(theta_inc, qvec, fc)\n",
    "p_KA_ana = bragg.p_sca(theta_inc, qvec, fc, r_KA_ana, xsrc, zsrc, xrcr, zrcr)\n",
    "np.abs(p_sca_r - p_KA_ana)"
   ]
  },
  {
   "cell_type": "code",
   "execution_count": 13,
   "id": "perceived-allen",
   "metadata": {},
   "outputs": [
    {
     "data": {
      "text/plain": [
       "0.0"
      ]
     },
     "execution_count": 13,
     "metadata": {},
     "output_type": "execute_result"
    }
   ],
   "source": [
    "# confirm agreement with module calculations\n",
    "r_quad = QuadRs(x_per, eta, eta_p, c=c)\n",
    "r_KA_quad = r_quad.ka(theta_inc, qvec, fc)\n",
    "p_KA_quad = bragg.p_sca(theta_inc, qvec, fc, r_KA_quad, xsrc, zsrc, xrcr, zrcr)\n",
    "np.abs(p_sca_r - p_KA_quad)"
   ]
  },
  {
   "cell_type": "code",
   "execution_count": 14,
   "id": "continuing-fellowship",
   "metadata": {},
   "outputs": [
    {
     "data": {
      "text/plain": [
       "4.825179074965119e-16"
      ]
     },
     "execution_count": 14,
     "metadata": {},
     "output_type": "execute_result"
    }
   ],
   "source": [
    "np.max(np.abs(r_KA_ana - r_KA_quad))"
   ]
  }
 ],
 "metadata": {
  "kernelspec": {
   "display_name": "Python 3",
   "language": "python",
   "name": "python3"
  },
  "language_info": {
   "codemirror_mode": {
    "name": "ipython",
    "version": 3
   },
   "file_extension": ".py",
   "mimetype": "text/x-python",
   "name": "python",
   "nbconvert_exporter": "python",
   "pygments_lexer": "ipython3",
   "version": "3.8.3"
  }
 },
 "nbformat": 4,
 "nbformat_minor": 5
}
