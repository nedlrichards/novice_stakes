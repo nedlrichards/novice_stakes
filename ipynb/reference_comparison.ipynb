{
 "cells": [
  {
   "cell_type": "code",
   "execution_count": 1,
   "id": "virtual-priest",
   "metadata": {},
   "outputs": [],
   "source": [
    "import numpy as np\n",
    "from math import pi\n",
    "from scipy.linalg import solve\n",
    "from scipy.special import jv\n",
    "\n",
    "# basic periodic scatter information\n",
    "from novice_stakes.periodic_scatter import Bragg\n",
    "\n",
    "# complete reflection coefficent calculation modules to check results\n",
    "from novice_stakes.periodic_scatter import CosineRs, QuadRs"
   ]
  },
  {
   "cell_type": "code",
   "execution_count": 2,
   "id": "exceptional-significance",
   "metadata": {},
   "outputs": [],
   "source": [
    "# incident plane wave parameters\n",
    "theta_inc = 15. * pi / 180.\n",
    "c = 1500.\n",
    "fc = 500.\n",
    "\n",
    "# Sinusoidal paramters\n",
    "H = 2.\n",
    "L = 40.\n",
    "K = 2 * pi / L\n",
    "\n",
    "# discretize surface\n",
    "decimation = 8  # integration lengths per acoustic wavelength\n",
    "dx = c / (8 * fc)\n",
    "numx = int(np.ceil(L / dx))\n",
    "dx = L / numx\n",
    "xper = np.arange(numx) * dx\n",
    "z_wave = (H / 2) * np.cos(K * xper)\n",
    "zp_wave = -(H * K / 2) * np.sin(K * xper)\n",
    "\n",
    "# general considerations for periodic scatter calculations\n",
    "num_eva = 10\n",
    "bragg = Bragg(L)\n",
    "qs = bragg.qvec(theta_inc, num_eva, fc)\n",
    "a0, an, b0, bn = bragg.bragg_angles(theta_inc, qs, fc)\n",
    "\n",
    "# source and receiver specifications\n",
    "xsrc = 0\n",
    "zsrc = -10\n",
    "xrcr = 200\n",
    "zrcr = -20"
   ]
  },
  {
   "cell_type": "code",
   "execution_count": 3,
   "id": "isolated-isolation",
   "metadata": {},
   "outputs": [
    {
     "data": {
      "text/plain": [
       "(-0.10821968411364119-0.3637673890258957j)"
      ]
     },
     "execution_count": 3,
     "metadata": {},
     "output_type": "execute_result"
    }
   ],
   "source": [
    "# Analytic solution of reflection coefficents specific to sinusoidal surface\n",
    "a_inc = 1j ** qs * jv(qs, -b0 * H / 2)\n",
    "\n",
    "qdiff = qs[None, :] - qs[:, None]\n",
    "a_sca = 1j ** qdiff * jv(qdiff, bn[None, :] * H / 2)\n",
    "\n",
    "# solve system of equation for reflection coefficents\n",
    "rs_ana = solve(-a_sca, a_inc)\n",
    "p_rfm_ana = bragg.p_sca(theta_inc, qs, fc, rs_ana, xsrc, zsrc, xrcr, zrcr)\n",
    "p_rfm_ana"
   ]
  },
  {
   "cell_type": "code",
   "execution_count": 4,
   "id": "vertical-injury",
   "metadata": {},
   "outputs": [
    {
     "data": {
      "text/plain": [
       "0.0"
      ]
     },
     "execution_count": 4,
     "metadata": {},
     "output_type": "execute_result"
    }
   ],
   "source": [
    "# check naive notebook implimentation against module results\n",
    "r_cos = CosineRs(H, L, c=c)\n",
    "r1_ana = r_cos.rfm_1st(theta_inc, qs, fc)\n",
    "np.max(np.abs(rs_ana - r1_ana))"
   ]
  },
  {
   "cell_type": "code",
   "execution_count": 7,
   "id": "acquired-royalty",
   "metadata": {},
   "outputs": [
    {
     "name": "stderr",
     "output_type": "stream",
     "text": [
      "/home/nedrichards/miniconda3/lib/python3.8/site-packages/novice_stakes/periodic_scatter/quadrature_rs.py:124: RuntimeWarning: divide by zero encountered in log\n",
      "  gip_sing = (np.log(np.abs(dx[:, 0]) / L) \\\n",
      "/home/nedrichards/miniconda3/lib/python3.8/site-packages/novice_stakes/periodic_scatter/quadrature_rs.py:160: RuntimeWarning: divide by zero encountered in log\n",
      "  # compute positive asymptotic sum result\n",
      "/home/nedrichards/miniconda3/lib/python3.8/site-packages/novice_stakes/periodic_scatter/quadrature_rs.py:160: RuntimeWarning: invalid value encountered in multiply\n",
      "  # compute positive asymptotic sum result\n",
      "/home/nedrichards/miniconda3/lib/python3.8/site-packages/novice_stakes/periodic_scatter/quadrature_rs.py:161: RuntimeWarning: invalid value encountered in true_divide\n",
      "  Gp_total = np.exp(-a0 * dz) * np.log(1 - np.exp(Kper * (1j * dx - dz)))\n",
      "/home/nedrichards/miniconda3/lib/python3.8/site-packages/novice_stakes/periodic_scatter/quadrature_rs.py:162: RuntimeWarning: divide by zero encountered in log\n",
      "  Gp_total /= -4 * pi\n",
      "/home/nedrichards/miniconda3/lib/python3.8/site-packages/novice_stakes/periodic_scatter/quadrature_rs.py:162: RuntimeWarning: invalid value encountered in multiply\n",
      "  Gp_total /= -4 * pi\n",
      "/home/nedrichards/miniconda3/lib/python3.8/site-packages/novice_stakes/periodic_scatter/quadrature_rs.py:163: RuntimeWarning: invalid value encountered in true_divide\n",
      "  Gn_total = np.exp(a0 * dz) * np.log(1 - np.exp(-Kper * (1j * dx + dz)))\n"
     ]
    },
    {
     "data": {
      "text/plain": [
       "1.7661189887524185"
      ]
     },
     "execution_count": 7,
     "metadata": {},
     "output_type": "execute_result"
    }
   ],
   "source": [
    "# compaire RFM to integral equation\n",
    "r_cos = QuadRs(xper, z_wave, zp_wave, c=c)\n",
    "r_ie1_ana = r_cos.psi_hie_1st(theta_inc, qs, fc)\n",
    "np.max(np.abs(rs_ana - r_ie1_ana))"
   ]
  },
  {
   "cell_type": "code",
   "execution_count": 9,
   "id": "colored-thanksgiving",
   "metadata": {},
   "outputs": [
    {
     "data": {
      "text/plain": [
       "[<matplotlib.lines.Line2D at 0x7fee9bce4970>]"
      ]
     },
     "execution_count": 9,
     "metadata": {},
     "output_type": "execute_result"
    },
    {
     "data": {
      "image/png": "[encoded data removed]",
      "text/plain": [
       "<Figure size 432x288 with 1 Axes>"
      ]
     },
     "metadata": {
      "needs_background": "light"
     },
     "output_type": "display_data"
    }
   ],
   "source": [
    "import matplotlib.pyplot as plt\n",
    "plt.plot(r_ie1_ana.real)\n",
    "plt.plot(r1_ana.real)\n",
    "plt.plot(r1_ana.imag)"
   ]
  },
  {
   "cell_type": "code",
   "execution_count": null,
   "id": "requested-search",
   "metadata": {},
   "outputs": [],
   "source": [
    "r_ie1_ana"
   ]
  },
  {
   "cell_type": "code",
   "execution_count": null,
   "id": "buried-architect",
   "metadata": {},
   "outputs": [],
   "source": [
    "bragg.r_energy(theta_inc, qs, fc, r_ie1_ana)"
   ]
  },
  {
   "cell_type": "code",
   "execution_count": null,
   "id": "lyric-supervisor",
   "metadata": {},
   "outputs": [],
   "source": []
  }
 ],
 "metadata": {
  "kernelspec": {
   "display_name": "Python 3",
   "language": "python",
   "name": "python3"
  },
  "language_info": {
   "codemirror_mode": {
    "name": "ipython",
    "version": 3
   },
   "file_extension": ".py",
   "mimetype": "text/x-python",
   "name": "python",
   "nbconvert_exporter": "python",
   "pygments_lexer": "ipython3",
   "version": "3.8.3"
  }
 },
 "nbformat": 4,
 "nbformat_minor": 5
}
