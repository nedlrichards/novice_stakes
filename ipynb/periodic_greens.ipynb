{
 "cells": [
  {
   "cell_type": "code",
   "execution_count": 1,
   "id": "found-annotation",
   "metadata": {},
   "outputs": [],
   "source": [
    "import numpy as np\n",
    "from math import pi\n",
    "from scipy.special import hankel1\n",
    "from novice_stakes.periodic_scatter import G_pseudo"
   ]
  },
  {
   "cell_type": "code",
   "execution_count": 2,
   "id": "experimental-bracket",
   "metadata": {},
   "outputs": [],
   "source": [
    "# acoustic parameters\n",
    "theta_inc = 35. * pi / 180\n",
    "fc = 500.  # monofrequency source\n",
    "c = 1500.  # sound speed, m/s\n",
    "kc = 2 * pi * fc / c\n",
    "\n",
    "# reciever parameters\n",
    "xrcr = 200.\n",
    "zrcr = -20."
   ]
  },
  {
   "cell_type": "code",
   "execution_count": 3,
   "id": "separated-bishop",
   "metadata": {},
   "outputs": [],
   "source": [
    "# Sinusiodal parameters\n",
    "H = 2.\n",
    "L = 70.\n",
    "\n",
    "xtest = 4.  # position on first wave length\n",
    "numL = 6000\n",
    "\n",
    "K = 2 * pi / L"
   ]
  },
  {
   "cell_type": "code",
   "execution_count": 4,
   "id": "hispanic-family",
   "metadata": {},
   "outputs": [
    {
     "data": {
      "text/plain": [
       "(0.05015949286547945+0.007383747569106216j)"
      ]
     },
     "execution_count": 4,
     "metadata": {},
     "output_type": "execute_result"
    }
   ],
   "source": [
    "# sum of Hankel1 functions\n",
    "# make number of wavelengths odd \n",
    "if not numL % 2: numL += 1\n",
    "    \n",
    "n = np.arange(numL) - numL // 2\n",
    "x = n * L + xtest\n",
    "\n",
    "a0 = kc * np.cos(theta_inc)\n",
    "\n",
    "rho = np.sqrt(x ** 2 + (zrcr - H * np.cos(K * x) / 2) ** 2)\n",
    "g_per = np.sum(1j * np.exp(1j * a0 * n * L) * hankel1(0, kc * rho) / 4)\n",
    "g_per"
   ]
  },
  {
   "cell_type": "code",
   "execution_count": 5,
   "id": "sealed-weekend",
   "metadata": {},
   "outputs": [
    {
     "data": {
      "text/plain": [
       "(0.0270863432472525+0.023629110894684318j)"
      ]
     },
     "execution_count": 5,
     "metadata": {},
     "output_type": "execute_result"
    }
   ],
   "source": [
    "# spectral estimate\n",
    "num_order = 70\n",
    "\n",
    "if not num_order % 2: num_order += 1\n",
    "orders = np.arange(num_order) - num_order // 2\n",
    "\n",
    "dz = np.abs(zrcr - H * np.cos(K * xtest) / 2)\n",
    "\n",
    "an = a0 + orders * K\n",
    "bn = np.sqrt(kc ** 2 - an ** 2 + 0j)\n",
    "\n",
    "g_acc = 1j / (2 * L) \\\n",
    "      * np.sum(np.exp(1j * (bn * dz - an * xtest)) / bn)\n",
    "g_acc"
   ]
  },
  {
   "cell_type": "code",
   "execution_count": 36,
   "id": "detailed-rendering",
   "metadata": {},
   "outputs": [],
   "source": [
    "# estimation of green's function for small dx\n",
    "r1 = np.array([0.3, 0.])\n",
    "r2 = np.array([60, 0.01])\n",
    "dx, dz = (r2 - r1).tolist()"
   ]
  },
  {
   "cell_type": "code",
   "execution_count": 38,
   "id": "aquatic-estimate",
   "metadata": {},
   "outputs": [
    {
     "data": {
      "text/plain": [
       "(0.027928923837813896-0.004873090226598305j)"
      ]
     },
     "execution_count": 38,
     "metadata": {},
     "output_type": "execute_result"
    }
   ],
   "source": [
    "# sum of Hankel1 functions\n",
    "numL = 5000\n",
    "# make number of wavelengths odd \n",
    "if not numL % 2: numL += 1\n",
    "\n",
    "n = np.arange(-numL, numL + 1)\n",
    "\n",
    "a0 = kc * np.cos(theta_inc)\n",
    "\n",
    "dxn = dx + n * L\n",
    "\n",
    "rho = np.sqrt(dxn ** 2 + dz ** 2)\n",
    "g_per = (-1j / 4) * np.sum(np.exp(1j * a0 * n * L) * hankel1(0, kc * rho))\n",
    "g_per"
   ]
  },
  {
   "cell_type": "code",
   "execution_count": 39,
   "id": "trained-garbage",
   "metadata": {},
   "outputs": [
    {
     "data": {
      "text/plain": [
       "(0.02801832135066353-0.004786599523306313j)"
      ]
     },
     "execution_count": 39,
     "metadata": {},
     "output_type": "execute_result"
    }
   ],
   "source": [
    "# spectral estimate\n",
    "num_order = 2000000\n",
    "\n",
    "if not num_order % 2: num_order += 1\n",
    "orders = np.arange(num_order) - num_order // 2\n",
    "\n",
    "an = a0 + orders * K\n",
    "bn = np.sqrt(kc ** 2 - an ** 2 + 0j)\n",
    "\n",
    "g_acc = -1j / (2 * L) \\\n",
    "      * np.sum(np.exp(1j * (bn * np.abs(dz) - an * dx)) / bn)\n",
    "g_acc"
   ]
  },
  {
   "cell_type": "code",
   "execution_count": 41,
   "id": "occasional-dylan",
   "metadata": {},
   "outputs": [
    {
     "name": "stdout",
     "output_type": "stream",
     "text": [
      "(0.00752289821035548+0.023172564317791407j)\n"
     ]
    }
   ],
   "source": [
    "# Lattice sum form\n",
    "print(G_pseudo(a0, kc, L, r1, r2, 13, 150))"
   ]
  },
  {
   "cell_type": "code",
   "execution_count": 27,
   "id": "experimental-thailand",
   "metadata": {},
   "outputs": [
    {
     "data": {
      "text/plain": [
       "-1.5725507109598882"
      ]
     },
     "execution_count": 27,
     "metadata": {},
     "output_type": "execute_result"
    }
   ],
   "source": [
    "np.arctan2(-np.abs(dx),-np.abs(dz))"
   ]
  },
  {
   "cell_type": "code",
   "execution_count": 28,
   "id": "higher-external",
   "metadata": {},
   "outputs": [
    {
     "data": {
      "text/plain": [
       "-0.9999984610684955"
      ]
     },
     "execution_count": 28,
     "metadata": {},
     "output_type": "execute_result"
    }
   ],
   "source": [
    "np.cos(np.pi / 2 - np.arctan2(-np.abs(dx),-np.abs(dz)))"
   ]
  },
  {
   "cell_type": "code",
   "execution_count": null,
   "id": "conceptual-maine",
   "metadata": {},
   "outputs": [],
   "source": []
  },
  {
   "cell_type": "code",
   "execution_count": null,
   "id": "steady-elevation",
   "metadata": {},
   "outputs": [],
   "source": []
  }
 ],
 "metadata": {
  "kernelspec": {
   "display_name": "Python 3",
   "language": "python",
   "name": "python3"
  },
  "language_info": {
   "codemirror_mode": {
    "name": "ipython",
    "version": 3
   },
   "file_extension": ".py",
   "mimetype": "text/x-python",
   "name": "python",
   "nbconvert_exporter": "python",
   "pygments_lexer": "ipython3",
   "version": "3.8.3"
  }
 },
 "nbformat": 4,
 "nbformat_minor": 5
}
