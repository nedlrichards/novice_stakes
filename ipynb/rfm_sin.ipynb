{
 "cells": [
  {
   "cell_type": "code",
   "execution_count": 1,
   "id": "virtual-priest",
   "metadata": {},
   "outputs": [],
   "source": [
    "import numpy as np\n",
    "from math import pi\n",
    "from scipy.linalg import solve\n",
    "from scipy.special import jv\n",
    "\n",
    "# basic periodic scatter information\n",
    "from novice_stakes.periodic_scatter import Bragg\n",
    "\n",
    "# complete reflection coefficent calculation modules to check results\n",
    "from novice_stakes.periodic_scatter import CosineRs, QuadRs"
   ]
  },
  {
   "cell_type": "code",
   "execution_count": 14,
   "id": "exceptional-significance",
   "metadata": {},
   "outputs": [],
   "source": [
    "# incident plane wave parameters\n",
    "theta_inc = 15. * pi / 180.\n",
    "c = 1500.\n",
    "fc = 500.\n",
    "\n",
    "# Sinusoidal paramters\n",
    "H = 2.\n",
    "L = 40.\n",
    "K = 2 * pi / L\n",
    "\n",
    "# discretize surface\n",
    "decimation = 8  # integration lengths per acoustic wavelength\n",
    "dx = c / (8 * fc)\n",
    "numx = int(np.ceil(L / dx))\n",
    "dx = L / numx\n",
    "xper = np.arange(numx) * dx\n",
    "z_wave = (H / 2) * np.cos(K * xper)\n",
    "zp_wave = -(H * K / 2) * np.sin(K * xper)\n",
    "\n",
    "# general considerations for periodic scatter calculations\n",
    "num_eva = 10\n",
    "bragg = Bragg(L)\n",
    "qs = bragg.qvec(theta_inc, num_eva, fc)\n",
    "a0, an, b0, bn = bragg.bragg_angles(theta_inc, qs, fc)\n",
    "\n",
    "# source and receiver specifications\n",
    "xsrc = 0\n",
    "zsrc = -10\n",
    "xrcr = 200\n",
    "zrcr = -20"
   ]
  },
  {
   "cell_type": "code",
   "execution_count": 15,
   "id": "isolated-isolation",
   "metadata": {},
   "outputs": [
    {
     "data": {
      "text/plain": [
       "(-0.10821968411364119-0.3637673890258957j)"
      ]
     },
     "execution_count": 15,
     "metadata": {},
     "output_type": "execute_result"
    }
   ],
   "source": [
    "# Analytic solution of reflection coefficents specific to sinusoidal surface\n",
    "a_inc = 1j ** qs * jv(qs, -b0 * H / 2)\n",
    "\n",
    "qdiff = qs[None, :] - qs[:, None]\n",
    "a_sca = 1j ** qdiff * jv(qdiff, bn[None, :] * H / 2)\n",
    "\n",
    "# solve system of equation for reflection coefficents\n",
    "rs_ana = solve(-a_sca, a_inc)\n",
    "p_rfm_ana = bragg.p_sca(theta_inc, qs, fc, rs_ana, xsrc, zsrc, xrcr, zrcr)\n",
    "p_rfm_ana"
   ]
  },
  {
   "cell_type": "code",
   "execution_count": 16,
   "id": "embedded-default",
   "metadata": {},
   "outputs": [
    {
     "data": {
      "text/plain": [
       "(-0.04425435231266406-0.2839322912485266j)"
      ]
     },
     "execution_count": 16,
     "metadata": {},
     "output_type": "execute_result"
    }
   ],
   "source": [
    "# KA provides a sanity check of solution\n",
    "# it is most accurate for low surface slopes and high grazing angles\n",
    "integrator = QuadRs(xper, z_wave, zp_wave)\n",
    "rs_ka = integrator.ka(theta_inc, qs, fc)\n",
    "p_ka = bragg.p_sca(theta_inc, qs, fc, rs_ka, xsrc, zsrc, xrcr, zrcr)\n",
    "p_ka"
   ]
  },
  {
   "cell_type": "code",
   "execution_count": 17,
   "id": "vertical-injury",
   "metadata": {},
   "outputs": [
    {
     "data": {
      "text/plain": [
       "0.0"
      ]
     },
     "execution_count": 17,
     "metadata": {},
     "output_type": "execute_result"
    }
   ],
   "source": [
    "# check naive notebook implimentation against module results\n",
    "r_cos = CosineRs(H, L, c=c)\n",
    "r1_ana = r_cos.rfm_1st(theta_inc, qs, fc)\n",
    "np.max(np.abs(rs_ana - r1_ana))"
   ]
  },
  {
   "cell_type": "code",
   "execution_count": 18,
   "id": "buried-architect",
   "metadata": {},
   "outputs": [
    {
     "data": {
      "text/plain": [
       "1.0000000000000004"
      ]
     },
     "execution_count": 18,
     "metadata": {},
     "output_type": "execute_result"
    }
   ],
   "source": [
    "bragg.r_energy(theta_inc, qs, fc, r1_ana)"
   ]
  },
  {
   "cell_type": "code",
   "execution_count": 19,
   "id": "departmental-pioneer",
   "metadata": {},
   "outputs": [
    {
     "data": {
      "text/plain": [
       "1.0029770464352001"
      ]
     },
     "execution_count": 19,
     "metadata": {},
     "output_type": "execute_result"
    }
   ],
   "source": [
    "bragg.r_energy(theta_inc, qs, fc, rs_ka)"
   ]
  }
 ],
 "metadata": {
  "kernelspec": {
   "display_name": "Python 3",
   "language": "python",
   "name": "python3"
  },
  "language_info": {
   "codemirror_mode": {
    "name": "ipython",
    "version": 3
   },
   "file_extension": ".py",
   "mimetype": "text/x-python",
   "name": "python",
   "nbconvert_exporter": "python",
   "pygments_lexer": "ipython3",
   "version": "3.8.3"
  }
 },
 "nbformat": 4,
 "nbformat_minor": 5
}
