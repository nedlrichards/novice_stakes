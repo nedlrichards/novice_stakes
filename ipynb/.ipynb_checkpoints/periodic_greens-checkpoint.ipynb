{
 "cells": [
  {
   "cell_type": "code",
   "execution_count": 37,
   "id": "found-annotation",
   "metadata": {},
   "outputs": [],
   "source": [
    "import numpy as np\n",
    "from math import pi\n",
    "from scipy.special import hankel1"
   ]
  },
  {
   "cell_type": "code",
   "execution_count": 38,
   "id": "experimental-bracket",
   "metadata": {},
   "outputs": [],
   "source": [
    "# acoustic parameters\n",
    "theta_inc = 35. * pi / 180\n",
    "fc = 500.  # monofrequency source\n",
    "c = 1500.  # sound speed, m/s\n",
    "kc = 2 * pi * fc / c\n",
    "\n",
    "# reciever parameters\n",
    "xrcr = 200.\n",
    "zrcr = -20."
   ]
  },
  {
   "cell_type": "code",
   "execution_count": 39,
   "id": "separated-bishop",
   "metadata": {},
   "outputs": [],
   "source": [
    "# Sinusiodal parameters\n",
    "H = 2.\n",
    "L = 40.\n",
    "\n",
    "xtest = 4.  # position on first wave length\n",
    "numL = 6000\n",
    "\n",
    "K = 2 * pi / L"
   ]
  },
  {
   "cell_type": "code",
   "execution_count": 44,
   "id": "hispanic-family",
   "metadata": {},
   "outputs": [
    {
     "data": {
      "text/plain": [
       "(0.03356815442864322+0.0186228355364334j)"
      ]
     },
     "execution_count": 44,
     "metadata": {},
     "output_type": "execute_result"
    }
   ],
   "source": [
    "# Hankel1\n",
    "# make number of wavelengths odd \n",
    "if not numL % 2: numL += 1\n",
    "    \n",
    "n = np.arange(numL) - numL // 2\n",
    "x = n * L + xtest\n",
    "\n",
    "a0 = kc * np.cos(theta_inc)\n",
    "\n",
    "rho = np.sqrt(x ** 2 + (zrcr - H * np.cos(K * x) / 2) ** 2)\n",
    "g_per = np.sum(1j * np.exp(1j * a0 * n * L) * hankel1(0, kc * rho) / 4)\n",
    "g_per"
   ]
  },
  {
   "cell_type": "code",
   "execution_count": 55,
   "id": "sealed-weekend",
   "metadata": {},
   "outputs": [
    {
     "data": {
      "text/plain": [
       "(0.033913295619041176+0.01866591364884157j)"
      ]
     },
     "execution_count": 55,
     "metadata": {},
     "output_type": "execute_result"
    }
   ],
   "source": [
    "num_order = 70\n",
    "\n",
    "if not num_order % 2: num_order += 1\n",
    "orders = np.arange(num_order) - num_order // 2\n",
    "\n",
    "dz = np.abs(zrcr - H * np.cos(K * xtest) / 2)\n",
    "\n",
    "an = a0 + orders * K\n",
    "bn = np.sqrt(kc ** 2 - an ** 2 + 0j)\n",
    "\n",
    "g_acc = 1j / (2 * L) \\\n",
    "      * np.sum(np.exp(1j * (bn * dz - an * xtest)) / bn)\n",
    "g_acc"
   ]
  }
 ],
 "metadata": {
  "kernelspec": {
   "display_name": "Python 3",
   "language": "python",
   "name": "python3"
  },
  "language_info": {
   "codemirror_mode": {
    "name": "ipython",
    "version": 3
   },
   "file_extension": ".py",
   "mimetype": "text/x-python",
   "name": "python",
   "nbconvert_exporter": "python",
   "pygments_lexer": "ipython3",
   "version": "3.8.3"
  }
 },
 "nbformat": 4,
 "nbformat_minor": 5
}
